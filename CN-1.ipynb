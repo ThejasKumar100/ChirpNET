{
 "cells": [
  {
   "cell_type": "markdown",
   "id": "1c9e469a",
   "metadata": {},
   "source": [
    "## ChirpNet Model - CNN\n",
    "\n",
    "By Thejaswin Kumaran<div>\n",
    "Class: CS 4375.001 - Sriraam Natarajan"
   ]
  },
  {
   "cell_type": "code",
   "execution_count": null,
   "id": "f9e8f4cc",
   "metadata": {},
   "outputs": [],
   "source": [
    "# Imports Cell\n",
    "import os\n",
    "import sys\n",
    "\n",
    "import pandas as pd\n",
    "import numpy as np\n",
    "\n",
    "import matplotlib\n",
    "matplotlib.use('Agg')\n",
    "import matplotlib.pyplot as plt\n",
    "from sklearn import tree\n",
    "# from sklearn.tree import DecisionTreeClassifier, export_text, DecisionTreeClassifier\n",
    "# from sklearn.metrics import confusion_matrix, ConfusionMatrixDisplay, accuracy_score\n",
    "# from sklearn.ensemble import BaggingClassifier, AdaBoostClassifier\n",
    "# from decision_tree import load_monk_data\n"
   ]
  },
  {
   "cell_type": "code",
   "execution_count": null,
   "id": "8d2cadab",
   "metadata": {},
   "outputs": [],
   "source": [
    "# Dataset Processing Cell"
   ]
  }
 ],
 "metadata": {
  "kernelspec": {
   "display_name": ".venv",
   "language": "python",
   "name": "python3"
  },
  "language_info": {
   "name": "python",
   "version": "3.13.3"
  }
 },
 "nbformat": 4,
 "nbformat_minor": 5
}
